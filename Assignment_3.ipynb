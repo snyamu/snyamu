{
  "nbformat": 4,
  "nbformat_minor": 0,
  "metadata": {
    "colab": {
      "name": "Assignment 3.ipynb",
      "provenance": [],
      "collapsed_sections": [],
      "authorship_tag": "ABX9TyMO/z+RRnnxkmNuDxNeooOA",
      "include_colab_link": true
    },
    "kernelspec": {
      "name": "python3",
      "display_name": "Python 3"
    },
    "language_info": {
      "name": "python"
    }
  },
  "cells": [
    {
      "cell_type": "markdown",
      "metadata": {
        "id": "view-in-github",
        "colab_type": "text"
      },
      "source": [
        "<a href=\"https://colab.research.google.com/github/snyamu/snyamu/blob/main/Assignment_3.ipynb\" target=\"_parent\"><img src=\"https://colab.research.google.com/assets/colab-badge.svg\" alt=\"Open In Colab\"/></a>"
      ]
    },
    {
      "cell_type": "code",
      "metadata": {
        "id": "XmXmr-xVOmcJ"
      },
      "source": [
        ""
      ],
      "execution_count": null,
      "outputs": []
    },
    {
      "cell_type": "code",
      "metadata": {
        "colab": {
          "base_uri": "https://localhost:8080/"
        },
        "id": "8R3BY-rrMLid",
        "outputId": "30f53178-fef2-4f21-f345-369a1a00115f"
      },
      "source": [
        "#........ and shoot for the Sky in you getting a big promotion & opportunity\n",
        "#Enter Full Names\n",
        "print (\"Enter First and Last Name\")\n",
        "fname = input(\"fname\") #First Name\n",
        "lname = input(\"lname\") #last Name\n",
        "fullnames = fname + \" \" + lname\n",
        "\n",
        "#Enter phone, email\n",
        "print(\"Enter Customer's Phone Number \")\n",
        "phone = input(\"phone\")\n",
        "print(\"Enter Customer's email aaddress \")\n",
        "email = input(\"email\")\n",
        "\n",
        "#price of a used car\n",
        "price = 10000.00\n",
        "has_good_credit = True\n",
        "\n",
        "if has_good_credit:\n",
        "    down_payment = 0.1 * price\n",
        "else:\n",
        "    down_payment = 0.2 * price\n",
        "\n",
        "print(\"Down Payment: \" +str(down_payment))\n",
        "print('')\n",
        "print(\"Full Names: \" + fullnames)\n",
        "print(\"Phone: \" + phone)\n",
        "print(\"Email: \" + email)\n",
        "##print(\"Down Payment:  + down_payment\")\n",
        "\n"
      ],
      "execution_count": 1,
      "outputs": [
        {
          "output_type": "stream",
          "text": [
            "Enter First and Last Name\n",
            "fnamesarah\n",
            "lnamejohn\n",
            "Enter Customer's Phone Number \n",
            "phone7704582000\n",
            "Enter Customer's email aaddress \n",
            "emailsjohn@yahoo.com\n",
            "Down Payment: 1000.0\n",
            "\n",
            "Full Names: sarah john\n",
            "Phone: 7704582000\n",
            "Email: sjohn@yahoo.com\n"
          ],
          "name": "stdout"
        }
      ]
    }
  ]
}