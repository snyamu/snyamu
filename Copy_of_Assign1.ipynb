{
  "nbformat": 4,
  "nbformat_minor": 0,
  "metadata": {
    "colab": {
      "name": "Copy of Untitled0.ipynb",
      "provenance": [],
      "authorship_tag": "ABX9TyNj3lPJcMHVo72geew9VsNC",
      "include_colab_link": true
    },
    "kernelspec": {
      "name": "python3",
      "display_name": "Python 3"
    },
    "language_info": {
      "name": "python"
    }
  },
  "cells": [
    {
      "cell_type": "markdown",
      "metadata": {
        "id": "view-in-github",
        "colab_type": "text"
      },
      "source": [
        "<a href=\"https://colab.research.google.com/github/snyamu/snyamu/blob/main/Copy_of_Assign1.ipynb\" target=\"_parent\"><img src=\"https://colab.research.google.com/assets/colab-badge.svg\" alt=\"Open In Colab\"/></a>"
      ]
    },
    {
      "cell_type": "code",
      "metadata": {
        "colab": {
          "base_uri": "https://localhost:8080/"
        },
        "id": "Qzz0z-UAQw9v",
        "outputId": "fcb9cee1-e84f-4bd9-f78c-706e41de3ba4"
      },
      "source": [
        "#Enter First and last name\n",
        "names =input (\"Enter first and last name\")\n",
        "print (names)\n",
        "print()\n",
        "#Enter your goals for this class\n",
        "print(\"What are your for this class long term goals\")\n",
        "goals=input(\"What would you like to be when all is said and done with the class\")\n",
        "print(goals)"
      ],
      "execution_count": null,
      "outputs": [
        {
          "output_type": "stream",
          "text": [
            "Enter first and last namesarah john\n",
            "sarah john\n",
            "\n",
            "What are your for this class long term goals\n",
            "What would you like to be when all is said and done with the classweb developer\n",
            "web developer\n"
          ],
          "name": "stdout"
        }
      ]
    }
  ]
}