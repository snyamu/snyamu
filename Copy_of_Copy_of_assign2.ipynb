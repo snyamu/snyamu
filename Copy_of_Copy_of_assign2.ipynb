{
  "nbformat": 4,
  "nbformat_minor": 0,
  "metadata": {
    "colab": {
      "name": "Copy of Copy of assign2.ipynb",
      "provenance": [],
      "authorship_tag": "ABX9TyPGoHMHxSlI9wvDfIed2a2W",
      "include_colab_link": true
    },
    "kernelspec": {
      "name": "python3",
      "display_name": "Python 3"
    },
    "language_info": {
      "name": "python"
    }
  },
  "cells": [
    {
      "cell_type": "markdown",
      "metadata": {
        "id": "view-in-github",
        "colab_type": "text"
      },
      "source": [
        "<a href=\"https://colab.research.google.com/github/snyamu/snyamu/blob/main/Copy_of_Copy_of_assign2.ipynb\" target=\"_parent\"><img src=\"https://colab.research.google.com/assets/colab-badge.svg\" alt=\"Open In Colab\"/></a>"
      ]
    },
    {
      "cell_type": "code",
      "metadata": {
        "colab": {
          "base_uri": "https://localhost:8080/"
        },
        "id": "4gBxmCQOD9hF",
        "outputId": "24374a81-d2ff-425a-eb0c-6a132a74ea54"
      },
      "source": [
        "names=input(\"first and last name\")\n",
        "country=input(\"country of origin\")\n",
        "job=input(\"nature of the current job\")\n",
        "email=input(\"email address\")\n",
        "phone=input(\"phone number\")\n",
        "city=input(\"current city of residence\")\n",
        "address=input(\"Mailing address\")\n",
        "print()\n",
        "\n",
        "\n"
      ],
      "execution_count": null,
      "outputs": [
        {
          "output_type": "stream",
          "text": [
            "first and last namesarah john\n",
            "country of originkenya\n",
            "nature of the current jobweb developer\n",
            "email addresssjohn@yahoo.com\n",
            "phone number7704582000\n",
            "current city of residenceAlcoa\n"
          ],
          "name": "stdout"
        }
      ]
    }
  ]
}