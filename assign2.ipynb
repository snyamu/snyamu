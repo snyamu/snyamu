{
  "nbformat": 4,
  "nbformat_minor": 0,
  "metadata": {
    "colab": {
      "name": "assign2.ipynb",
      "provenance": [],
      "authorship_tag": "ABX9TyMaE0frHz78mHuvRBepswEb",
      "include_colab_link": true
    },
    "kernelspec": {
      "name": "python3",
      "display_name": "Python 3"
    },
    "language_info": {
      "name": "python"
    }
  },
  "cells": [
    {
      "cell_type": "markdown",
      "metadata": {
        "id": "view-in-github",
        "colab_type": "text"
      },
      "source": [
        "<a href=\"https://colab.research.google.com/github/snyamu/snyamu/blob/main/assign2.ipynb\" target=\"_parent\"><img src=\"https://colab.research.google.com/assets/colab-badge.svg\" alt=\"Open In Colab\"/></a>"
      ]
    },
    {
      "cell_type": "code",
      "metadata": {
        "colab": {
          "base_uri": "https://localhost:8080/"
        },
        "id": "4gBxmCQOD9hF",
        "outputId": "b7a8f488-9fe8-45a5-9a2e-aa97f522bd51"
      },
      "source": [
        "names=input(\"first and last names\")\n",
        "name=input(\"last name\")\n",
        "country=input(\"country of origin\")\n",
        "job=input(\"nature of the current job\")\n",
        "email=input(\"email address\")\n",
        "phone=input(\"phone number\")\n",
        "city=input(\"current city of residence\")\n",
        "address=input(\"Mailing address\")\n",
        "print(names)\n",
        "print(country)\n",
        "print(job)\n",
        "print(email)\n",
        "print(phone)\n",
        "print(city)\n",
        "print(address)\n",
        "print()\n"
      ],
      "execution_count": null,
      "outputs": [
        {
          "output_type": "stream",
          "text": [
            "first and last namessarah john\n",
            "last namejohn\n",
            "country of originkenya\n",
            "nature of the current jobtufter\n",
            "email addresssjohn@yahoo.com\n",
            "phone number7704581922\n",
            "current city of residenceAlcoa\n",
            "Mailing address258 alcoa way \n",
            "sarah john\n",
            "kenya\n",
            "tufter\n",
            "sjohn@yahoo.com\n",
            "7704581922\n",
            "Alcoa\n",
            "258 alcoa way \n",
            "\n"
          ],
          "name": "stdout"
        }
      ]
    }
  ]
}